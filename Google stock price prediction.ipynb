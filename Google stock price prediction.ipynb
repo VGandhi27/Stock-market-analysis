{
  "cells": [
    {
      "cell_type": "code",
      "execution_count": 2,
      "id": "524a92c6",
      "metadata": {
        "id": "524a92c6"
      },
      "outputs": [],
      "source": [
        "import numpy as np \n",
        "import pandas as pd \n",
        "import matplotlib.pyplot as plt \n",
        "from sklearn.preprocessing import MinMaxScaler\n",
        "from keras.models import Sequential\n",
        "from keras.layers import Dense,LSTM,Dropout"
      ]
    },
    {
      "cell_type": "code",
      "source": [
        "from google.colab import drive\n",
        "drive.mount('/content/drive')"
      ],
      "metadata": {
        "id": "6qiaWn-Mt0vW"
      },
      "id": "6qiaWn-Mt0vW",
      "execution_count": null,
      "outputs": []
    },
    {
      "cell_type": "code",
      "execution_count": 3,
      "id": "9fd8358d",
      "metadata": {
        "id": "9fd8358d",
        "outputId": "75a35753-0baa-4dda-be47-bd6fca27d43a",
        "colab": {
          "base_uri": "https://localhost:8080/",
          "height": 206
        }
      },
      "outputs": [
        {
          "output_type": "execute_result",
          "data": {
            "text/plain": [
              "       Date    Open    High     Low   Close      Volume\n",
              "0  1/3/2012  325.25  332.83  324.97  663.59   7,380,500\n",
              "1  1/4/2012  331.27  333.87  329.08  666.45   5,749,400\n",
              "2  1/5/2012  329.83  330.75  326.89  657.21   6,590,300\n",
              "3  1/6/2012  328.34  328.77  323.68  648.24   5,405,900\n",
              "4  1/9/2012  322.04  322.29  309.46  620.76  11,688,800"
            ],
            "text/html": [
              "\n",
              "  <div id=\"df-49c3e268-13ff-45ac-bef3-4b8d4b445380\">\n",
              "    <div class=\"colab-df-container\">\n",
              "      <div>\n",
              "<style scoped>\n",
              "    .dataframe tbody tr th:only-of-type {\n",
              "        vertical-align: middle;\n",
              "    }\n",
              "\n",
              "    .dataframe tbody tr th {\n",
              "        vertical-align: top;\n",
              "    }\n",
              "\n",
              "    .dataframe thead th {\n",
              "        text-align: right;\n",
              "    }\n",
              "</style>\n",
              "<table border=\"1\" class=\"dataframe\">\n",
              "  <thead>\n",
              "    <tr style=\"text-align: right;\">\n",
              "      <th></th>\n",
              "      <th>Date</th>\n",
              "      <th>Open</th>\n",
              "      <th>High</th>\n",
              "      <th>Low</th>\n",
              "      <th>Close</th>\n",
              "      <th>Volume</th>\n",
              "    </tr>\n",
              "  </thead>\n",
              "  <tbody>\n",
              "    <tr>\n",
              "      <th>0</th>\n",
              "      <td>1/3/2012</td>\n",
              "      <td>325.25</td>\n",
              "      <td>332.83</td>\n",
              "      <td>324.97</td>\n",
              "      <td>663.59</td>\n",
              "      <td>7,380,500</td>\n",
              "    </tr>\n",
              "    <tr>\n",
              "      <th>1</th>\n",
              "      <td>1/4/2012</td>\n",
              "      <td>331.27</td>\n",
              "      <td>333.87</td>\n",
              "      <td>329.08</td>\n",
              "      <td>666.45</td>\n",
              "      <td>5,749,400</td>\n",
              "    </tr>\n",
              "    <tr>\n",
              "      <th>2</th>\n",
              "      <td>1/5/2012</td>\n",
              "      <td>329.83</td>\n",
              "      <td>330.75</td>\n",
              "      <td>326.89</td>\n",
              "      <td>657.21</td>\n",
              "      <td>6,590,300</td>\n",
              "    </tr>\n",
              "    <tr>\n",
              "      <th>3</th>\n",
              "      <td>1/6/2012</td>\n",
              "      <td>328.34</td>\n",
              "      <td>328.77</td>\n",
              "      <td>323.68</td>\n",
              "      <td>648.24</td>\n",
              "      <td>5,405,900</td>\n",
              "    </tr>\n",
              "    <tr>\n",
              "      <th>4</th>\n",
              "      <td>1/9/2012</td>\n",
              "      <td>322.04</td>\n",
              "      <td>322.29</td>\n",
              "      <td>309.46</td>\n",
              "      <td>620.76</td>\n",
              "      <td>11,688,800</td>\n",
              "    </tr>\n",
              "  </tbody>\n",
              "</table>\n",
              "</div>\n",
              "      <button class=\"colab-df-convert\" onclick=\"convertToInteractive('df-49c3e268-13ff-45ac-bef3-4b8d4b445380')\"\n",
              "              title=\"Convert this dataframe to an interactive table.\"\n",
              "              style=\"display:none;\">\n",
              "        \n",
              "  <svg xmlns=\"http://www.w3.org/2000/svg\" height=\"24px\"viewBox=\"0 0 24 24\"\n",
              "       width=\"24px\">\n",
              "    <path d=\"M0 0h24v24H0V0z\" fill=\"none\"/>\n",
              "    <path d=\"M18.56 5.44l.94 2.06.94-2.06 2.06-.94-2.06-.94-.94-2.06-.94 2.06-2.06.94zm-11 1L8.5 8.5l.94-2.06 2.06-.94-2.06-.94L8.5 2.5l-.94 2.06-2.06.94zm10 10l.94 2.06.94-2.06 2.06-.94-2.06-.94-.94-2.06-.94 2.06-2.06.94z\"/><path d=\"M17.41 7.96l-1.37-1.37c-.4-.4-.92-.59-1.43-.59-.52 0-1.04.2-1.43.59L10.3 9.45l-7.72 7.72c-.78.78-.78 2.05 0 2.83L4 21.41c.39.39.9.59 1.41.59.51 0 1.02-.2 1.41-.59l7.78-7.78 2.81-2.81c.8-.78.8-2.07 0-2.86zM5.41 20L4 18.59l7.72-7.72 1.47 1.35L5.41 20z\"/>\n",
              "  </svg>\n",
              "      </button>\n",
              "      \n",
              "  <style>\n",
              "    .colab-df-container {\n",
              "      display:flex;\n",
              "      flex-wrap:wrap;\n",
              "      gap: 12px;\n",
              "    }\n",
              "\n",
              "    .colab-df-convert {\n",
              "      background-color: #E8F0FE;\n",
              "      border: none;\n",
              "      border-radius: 50%;\n",
              "      cursor: pointer;\n",
              "      display: none;\n",
              "      fill: #1967D2;\n",
              "      height: 32px;\n",
              "      padding: 0 0 0 0;\n",
              "      width: 32px;\n",
              "    }\n",
              "\n",
              "    .colab-df-convert:hover {\n",
              "      background-color: #E2EBFA;\n",
              "      box-shadow: 0px 1px 2px rgba(60, 64, 67, 0.3), 0px 1px 3px 1px rgba(60, 64, 67, 0.15);\n",
              "      fill: #174EA6;\n",
              "    }\n",
              "\n",
              "    [theme=dark] .colab-df-convert {\n",
              "      background-color: #3B4455;\n",
              "      fill: #D2E3FC;\n",
              "    }\n",
              "\n",
              "    [theme=dark] .colab-df-convert:hover {\n",
              "      background-color: #434B5C;\n",
              "      box-shadow: 0px 1px 3px 1px rgba(0, 0, 0, 0.15);\n",
              "      filter: drop-shadow(0px 1px 2px rgba(0, 0, 0, 0.3));\n",
              "      fill: #FFFFFF;\n",
              "    }\n",
              "  </style>\n",
              "\n",
              "      <script>\n",
              "        const buttonEl =\n",
              "          document.querySelector('#df-49c3e268-13ff-45ac-bef3-4b8d4b445380 button.colab-df-convert');\n",
              "        buttonEl.style.display =\n",
              "          google.colab.kernel.accessAllowed ? 'block' : 'none';\n",
              "\n",
              "        async function convertToInteractive(key) {\n",
              "          const element = document.querySelector('#df-49c3e268-13ff-45ac-bef3-4b8d4b445380');\n",
              "          const dataTable =\n",
              "            await google.colab.kernel.invokeFunction('convertToInteractive',\n",
              "                                                     [key], {});\n",
              "          if (!dataTable) return;\n",
              "\n",
              "          const docLinkHtml = 'Like what you see? Visit the ' +\n",
              "            '<a target=\"_blank\" href=https://colab.research.google.com/notebooks/data_table.ipynb>data table notebook</a>'\n",
              "            + ' to learn more about interactive tables.';\n",
              "          element.innerHTML = '';\n",
              "          dataTable['output_type'] = 'display_data';\n",
              "          await google.colab.output.renderOutput(dataTable, element);\n",
              "          const docLink = document.createElement('div');\n",
              "          docLink.innerHTML = docLinkHtml;\n",
              "          element.appendChild(docLink);\n",
              "        }\n",
              "      </script>\n",
              "    </div>\n",
              "  </div>\n",
              "  "
            ]
          },
          "metadata": {},
          "execution_count": 3
        }
      ],
      "source": [
        "data = pd.read_csv('Google_train_data.csv')\n",
        "data.head()"
      ]
    },
    {
      "cell_type": "code",
      "execution_count": 4,
      "id": "5a5d7ae7",
      "metadata": {
        "id": "5a5d7ae7",
        "outputId": "aea65347-409c-4837-ad92-43d4f924496a",
        "colab": {
          "base_uri": "https://localhost:8080/"
        }
      },
      "outputs": [
        {
          "output_type": "stream",
          "name": "stdout",
          "text": [
            "<class 'pandas.core.frame.DataFrame'>\n",
            "RangeIndex: 1258 entries, 0 to 1257\n",
            "Data columns (total 6 columns):\n",
            " #   Column  Non-Null Count  Dtype  \n",
            "---  ------  --------------  -----  \n",
            " 0   Date    1258 non-null   object \n",
            " 1   Open    1258 non-null   float64\n",
            " 2   High    1258 non-null   float64\n",
            " 3   Low     1258 non-null   float64\n",
            " 4   Close   1258 non-null   object \n",
            " 5   Volume  1258 non-null   object \n",
            "dtypes: float64(3), object(3)\n",
            "memory usage: 59.1+ KB\n"
          ]
        }
      ],
      "source": [
        "data.info()"
      ]
    },
    {
      "cell_type": "code",
      "execution_count": 5,
      "id": "c0edbc16",
      "metadata": {
        "id": "c0edbc16"
      },
      "outputs": [],
      "source": [
        "data[\"Close\"]=pd.to_numeric(data.Close,errors='coerce')\n",
        "data = data.dropna()\n",
        "trainData = data.iloc[:,4:5].values"
      ]
    },
    {
      "cell_type": "code",
      "execution_count": 6,
      "id": "c9ee9275",
      "metadata": {
        "id": "c9ee9275",
        "outputId": "326b990b-c7df-4e93-97fc-3ac79a6d9d72",
        "colab": {
          "base_uri": "https://localhost:8080/"
        }
      },
      "outputs": [
        {
          "output_type": "stream",
          "name": "stdout",
          "text": [
            "<class 'pandas.core.frame.DataFrame'>\n",
            "Int64Index: 1149 entries, 0 to 1257\n",
            "Data columns (total 6 columns):\n",
            " #   Column  Non-Null Count  Dtype  \n",
            "---  ------  --------------  -----  \n",
            " 0   Date    1149 non-null   object \n",
            " 1   Open    1149 non-null   float64\n",
            " 2   High    1149 non-null   float64\n",
            " 3   Low     1149 non-null   float64\n",
            " 4   Close   1149 non-null   float64\n",
            " 5   Volume  1149 non-null   object \n",
            "dtypes: float64(4), object(2)\n",
            "memory usage: 62.8+ KB\n"
          ]
        }
      ],
      "source": [
        "data.info()"
      ]
    },
    {
      "cell_type": "code",
      "execution_count": 7,
      "id": "dc07d281",
      "metadata": {
        "id": "dc07d281",
        "outputId": "bfd5e737-e49d-4100-c965-88196bcbe8e4",
        "colab": {
          "base_uri": "https://localhost:8080/"
        }
      },
      "outputs": [
        {
          "output_type": "execute_result",
          "data": {
            "text/plain": [
              "(1149, 1)"
            ]
          },
          "metadata": {},
          "execution_count": 7
        }
      ],
      "source": [
        "sc = MinMaxScaler(feature_range=(0,1))\n",
        "trainData = sc.fit_transform(trainData)\n",
        "trainData.shape"
      ]
    },
    {
      "cell_type": "code",
      "execution_count": 8,
      "id": "45929867",
      "metadata": {
        "id": "45929867"
      },
      "outputs": [],
      "source": [
        "X_train = []\n",
        "y_train = []\n",
        "\n",
        "for i in range (60,1149): #60 : timestep // 1149 : length of the data\n",
        "    X_train.append(trainData[i-60:i,0]) \n",
        "    y_train.append(trainData[i,0])\n",
        "\n",
        "X_train,y_train = np.array(X_train),np.array(y_train)"
      ]
    },
    {
      "cell_type": "code",
      "execution_count": 9,
      "id": "92c7373d",
      "metadata": {
        "id": "92c7373d",
        "outputId": "d8de57d0-564a-4e44-cec4-b17907b7efdb",
        "colab": {
          "base_uri": "https://localhost:8080/"
        }
      },
      "outputs": [
        {
          "output_type": "execute_result",
          "data": {
            "text/plain": [
              "(1089, 60, 1)"
            ]
          },
          "metadata": {},
          "execution_count": 9
        }
      ],
      "source": [
        "X_train = np.reshape(X_train,(X_train.shape[0],X_train.shape[1],1)) #adding the batch_size axis\n",
        "X_train.shape"
      ]
    },
    {
      "cell_type": "code",
      "execution_count": 10,
      "id": "4a6ebed9",
      "metadata": {
        "id": "4a6ebed9"
      },
      "outputs": [],
      "source": [
        "model = Sequential()\n",
        "\n",
        "model.add(LSTM(units=100, return_sequences = True, input_shape =(X_train.shape[1],1)))\n",
        "model.add(Dropout(0.2))\n",
        "\n",
        "model.add(LSTM(units=100, return_sequences = True))\n",
        "model.add(Dropout(0.2))\n",
        "\n",
        "model.add(LSTM(units=100, return_sequences = True))\n",
        "model.add(Dropout(0.2))\n",
        "\n",
        "model.add(LSTM(units=100, return_sequences = False))\n",
        "model.add(Dropout(0.2))\n",
        "\n",
        "model.add(Dense(units =1))\n",
        "model.compile(optimizer='adam',loss=\"mean_squared_error\")"
      ]
    },
    {
      "cell_type": "code",
      "execution_count": 11,
      "id": "dd0cf11e",
      "metadata": {
        "id": "dd0cf11e",
        "outputId": "165c51a3-b8a7-408d-de2e-79c82a89f817",
        "colab": {
          "base_uri": "https://localhost:8080/"
        }
      },
      "outputs": [
        {
          "output_type": "stream",
          "name": "stdout",
          "text": [
            "Epoch 1/20\n",
            "35/35 - 18s - loss: 0.0433 - 18s/epoch - 519ms/step\n",
            "Epoch 2/20\n",
            "35/35 - 13s - loss: 0.0109 - 13s/epoch - 375ms/step\n",
            "Epoch 3/20\n",
            "35/35 - 10s - loss: 0.0152 - 10s/epoch - 295ms/step\n",
            "Epoch 4/20\n",
            "35/35 - 9s - loss: 0.0107 - 9s/epoch - 257ms/step\n",
            "Epoch 5/20\n",
            "35/35 - 9s - loss: 0.0082 - 9s/epoch - 248ms/step\n",
            "Epoch 6/20\n",
            "35/35 - 9s - loss: 0.0075 - 9s/epoch - 253ms/step\n",
            "Epoch 7/20\n",
            "35/35 - 9s - loss: 0.0096 - 9s/epoch - 268ms/step\n",
            "Epoch 8/20\n",
            "35/35 - 9s - loss: 0.0078 - 9s/epoch - 264ms/step\n",
            "Epoch 9/20\n",
            "35/35 - 8s - loss: 0.0091 - 8s/epoch - 232ms/step\n",
            "Epoch 10/20\n",
            "35/35 - 9s - loss: 0.0068 - 9s/epoch - 262ms/step\n",
            "Epoch 11/20\n",
            "35/35 - 9s - loss: 0.0059 - 9s/epoch - 267ms/step\n",
            "Epoch 12/20\n",
            "35/35 - 8s - loss: 0.0062 - 8s/epoch - 228ms/step\n",
            "Epoch 13/20\n",
            "35/35 - 9s - loss: 0.0059 - 9s/epoch - 265ms/step\n",
            "Epoch 14/20\n",
            "35/35 - 10s - loss: 0.0058 - 10s/epoch - 275ms/step\n",
            "Epoch 15/20\n",
            "35/35 - 8s - loss: 0.0057 - 8s/epoch - 242ms/step\n",
            "Epoch 16/20\n",
            "35/35 - 9s - loss: 0.0050 - 9s/epoch - 251ms/step\n",
            "Epoch 17/20\n",
            "35/35 - 9s - loss: 0.0058 - 9s/epoch - 263ms/step\n",
            "Epoch 18/20\n",
            "35/35 - 9s - loss: 0.0052 - 9s/epoch - 257ms/step\n",
            "Epoch 19/20\n",
            "35/35 - 9s - loss: 0.0053 - 9s/epoch - 244ms/step\n",
            "Epoch 20/20\n",
            "35/35 - 9s - loss: 0.0047 - 9s/epoch - 267ms/step\n"
          ]
        }
      ],
      "source": [
        "hist = model.fit(X_train, y_train, epochs = 20, batch_size = 32, verbose=2)"
      ]
    },
    {
      "cell_type": "code",
      "execution_count": 12,
      "id": "a729971c",
      "metadata": {
        "id": "a729971c",
        "outputId": "338a5299-a223-4943-b538-0af6e13da0fa",
        "colab": {
          "base_uri": "https://localhost:8080/",
          "height": 295
        }
      },
      "outputs": [
        {
          "output_type": "display_data",
          "data": {
            "text/plain": [
              "<Figure size 432x288 with 1 Axes>"
            ],
            "image/png": "[encoded data removed]"
          },
          "metadata": {
            "needs_background": "light"
          }
        }
      ],
      "source": [
        "plt.plot(hist.history['loss'])\n",
        "plt.title('Training model loss')\n",
        "plt.ylabel('loss')\n",
        "plt.xlabel('epoch')\n",
        "plt.legend(['train'], loc='upper left')\n",
        "plt.show()"
      ]
    },
    {
      "cell_type": "code",
      "execution_count": 13,
      "id": "f21fecfd",
      "metadata": {
        "id": "f21fecfd",
        "outputId": "73e7cb6e-5c05-4f32-9739-3b3391961a6e",
        "colab": {
          "base_uri": "https://localhost:8080/"
        }
      },
      "outputs": [
        {
          "output_type": "execute_result",
          "data": {
            "text/plain": [
              "(192, 60, 1)"
            ]
          },
          "metadata": {},
          "execution_count": 13
        }
      ],
      "source": [
        "testData = pd.read_csv('Google_test_data.csv')\n",
        "testData[\"Close\"]=pd.to_numeric(testData.Close,errors='coerce')\n",
        "testData = testData.dropna()\n",
        "testData = testData.iloc[:,4:5]\n",
        "y_test = testData.iloc[60:,0:].values \n",
        "#input array for the model\n",
        "inputClosing = testData.iloc[:,0:].values \n",
        "inputClosing_scaled = sc.transform(inputClosing)\n",
        "inputClosing_scaled.shape\n",
        "X_test = []\n",
        "length = len(testData)\n",
        "timestep = 60\n",
        "for i in range(timestep,length):  \n",
        "    X_test.append(inputClosing_scaled[i-timestep:i,0])\n",
        "X_test = np.array(X_test)\n",
        "X_test = np.reshape(X_test,(X_test.shape[0],X_test.shape[1],1))\n",
        "X_test.shape"
      ]
    },
    {
      "cell_type": "code",
      "execution_count": 14,
      "id": "0408e983",
      "metadata": {
        "id": "0408e983",
        "outputId": "71448eed-4f1a-446b-c38f-f332f8fceb14",
        "colab": {
          "base_uri": "https://localhost:8080/"
        }
      },
      "outputs": [
        {
          "output_type": "stream",
          "name": "stdout",
          "text": [
            "6/6 [==============================] - 2s 77ms/step\n"
          ]
        },
        {
          "output_type": "execute_result",
          "data": {
            "text/plain": [
              "array([[1.1766884],\n",
              "       [1.1801214],\n",
              "       [1.1902256],\n",
              "       [1.2057877],\n",
              "       [1.2204807],\n",
              "       [1.2254636],\n",
              "       [1.2184626],\n",
              "       [1.203931 ],\n",
              "       [1.1909119],\n",
              "       [1.1836209],\n",
              "       [1.175607 ],\n",
              "       [1.1651465],\n",
              "       [1.1552223],\n",
              "       [1.145937 ],\n",
              "       [1.1419843],\n",
              "       [1.1440136],\n",
              "       [1.1574397],\n",
              "       [1.1813755],\n",
              "       [1.2115114],\n",
              "       [1.2436575],\n",
              "       [1.2631326],\n",
              "       [1.267773 ],\n",
              "       [1.2551806],\n",
              "       [1.2304578],\n",
              "       [1.2033135],\n",
              "       [1.1828591],\n",
              "       [1.1724739],\n",
              "       [1.1681107],\n",
              "       [1.1620487],\n",
              "       [1.1538156],\n",
              "       [1.144133 ],\n",
              "       [1.1325417],\n",
              "       [1.1153984],\n",
              "       [1.0932665],\n",
              "       [1.0799919],\n",
              "       [1.0822669],\n",
              "       [1.0976918],\n",
              "       [1.1198258],\n",
              "       [1.1437881],\n",
              "       [1.1603445],\n",
              "       [1.1748989],\n",
              "       [1.1897376],\n",
              "       [1.2057239],\n",
              "       [1.2210224],\n",
              "       [1.2326081],\n",
              "       [1.2366303],\n",
              "       [1.2307022],\n",
              "       [1.222427 ],\n",
              "       [1.2174337],\n",
              "       [1.2190303],\n",
              "       [1.2279229],\n",
              "       [1.2367078],\n",
              "       [1.2418504],\n",
              "       [1.2422776],\n",
              "       [1.2419298],\n",
              "       [1.2393707],\n",
              "       [1.2328274],\n",
              "       [1.2279695],\n",
              "       [1.2323014],\n",
              "       [1.2454375],\n",
              "       [1.2671496],\n",
              "       [1.2954502],\n",
              "       [1.3197086],\n",
              "       [1.3308953],\n",
              "       [1.3271261],\n",
              "       [1.3123199],\n",
              "       [1.2972859],\n",
              "       [1.2878147],\n",
              "       [1.2855182],\n",
              "       [1.287532 ],\n",
              "       [1.2919133],\n",
              "       [1.2960584],\n",
              "       [1.2956382],\n",
              "       [1.292502 ],\n",
              "       [1.2886152],\n",
              "       [1.2864361],\n",
              "       [1.2869005],\n",
              "       [1.2902528],\n",
              "       [1.29924  ],\n",
              "       [1.3140682],\n",
              "       [1.3343797],\n",
              "       [1.3558897],\n",
              "       [1.371632 ],\n",
              "       [1.3784671],\n",
              "       [1.3831636],\n",
              "       [1.3921769],\n",
              "       [1.4059504],\n",
              "       [1.4200591],\n",
              "       [1.4305854],\n",
              "       [1.4357449],\n",
              "       [1.4385513],\n",
              "       [1.445396 ],\n",
              "       [1.4584297],\n",
              "       [1.4701678],\n",
              "       [1.4738551],\n",
              "       [1.4670016],\n",
              "       [1.4501778],\n",
              "       [1.4272704],\n",
              "       [1.4046993],\n",
              "       [1.3911041],\n",
              "       [1.3899504],\n",
              "       [1.4001722],\n",
              "       [1.4188132],\n",
              "       [1.4391361],\n",
              "       [1.4553965],\n",
              "       [1.4637822],\n",
              "       [1.46529  ],\n",
              "       [1.4627417],\n",
              "       [1.4611454],\n",
              "       [1.4628816],\n",
              "       [1.4686621],\n",
              "       [1.4785938],\n",
              "       [1.4904324],\n",
              "       [1.5038242],\n",
              "       [1.5198756],\n",
              "       [1.5349333],\n",
              "       [1.5474983],\n",
              "       [1.5580249],\n",
              "       [1.5691224],\n",
              "       [1.5606279],\n",
              "       [1.5264719],\n",
              "       [1.4744849],\n",
              "       [1.4229357],\n",
              "       [1.3848661],\n",
              "       [1.3622754],\n",
              "       [1.352079 ],\n",
              "       [1.3499589],\n",
              "       [1.352953 ],\n",
              "       [1.3528026],\n",
              "       [1.3451782],\n",
              "       [1.33972  ],\n",
              "       [1.3439077],\n",
              "       [1.3548901],\n",
              "       [1.3638669],\n",
              "       [1.368662 ],\n",
              "       [1.3698123],\n",
              "       [1.3667113],\n",
              "       [1.3591675],\n",
              "       [1.3490905],\n",
              "       [1.3356769],\n",
              "       [1.320861 ],\n",
              "       [1.3046646],\n",
              "       [1.2767559],\n",
              "       [1.2411565],\n",
              "       [1.2035899],\n",
              "       [1.1709269],\n",
              "       [1.1514679],\n",
              "       [1.1497197],\n",
              "       [1.1630579],\n",
              "       [1.1849205],\n",
              "       [1.210443 ],\n",
              "       [1.2342252],\n",
              "       [1.2538073],\n",
              "       [1.2697494],\n",
              "       [1.2818034],\n",
              "       [1.2912558],\n",
              "       [1.3002133],\n",
              "       [1.3075898],\n",
              "       [1.3070894],\n",
              "       [1.2965626],\n",
              "       [1.2780914],\n",
              "       [1.2572854],\n",
              "       [1.2420006],\n",
              "       [1.2377837],\n",
              "       [1.2461166],\n",
              "       [1.2651694],\n",
              "       [1.286867 ],\n",
              "       [1.3064361],\n",
              "       [1.3237644],\n",
              "       [1.3388658],\n",
              "       [1.3510877],\n",
              "       [1.3606286],\n",
              "       [1.3678577],\n",
              "       [1.3713721],\n",
              "       [1.3709925],\n",
              "       [1.3646147],\n",
              "       [1.3548447],\n",
              "       [1.3461349],\n",
              "       [1.3392912],\n",
              "       [1.3334956],\n",
              "       [1.3500862],\n",
              "       [1.389309 ],\n",
              "       [1.4379069],\n",
              "       [1.4807031],\n",
              "       [1.5074402],\n",
              "       [1.513327 ],\n",
              "       [1.493892 ],\n",
              "       [1.4597025],\n",
              "       [1.4232775],\n",
              "       [1.3992676],\n",
              "       [1.3889364],\n",
              "       [1.386857 ]], dtype=float32)"
            ]
          },
          "metadata": {},
          "execution_count": 14
        }
      ],
      "source": [
        "y_pred = model.predict(X_test)\n",
        "y_pred"
      ]
    },
    {
      "cell_type": "code",
      "execution_count": 15,
      "id": "05987f2f",
      "metadata": {
        "id": "05987f2f"
      },
      "outputs": [],
      "source": [
        "predicted_price = sc.inverse_transform(y_pred)"
      ]
    },
    {
      "cell_type": "code",
      "execution_count": 16,
      "id": "d1dc6177",
      "metadata": {
        "id": "d1dc6177",
        "outputId": "6f9071a6-dee2-41c6-d134-1dcc48fc952d",
        "colab": {
          "base_uri": "https://localhost:8080/",
          "height": 295
        }
      },
      "outputs": [
        {
          "output_type": "display_data",
          "data": {
            "text/plain": [
              "<Figure size 432x288 with 1 Axes>"
            ],
            "image/png": "[encoded data removed]"
          },
          "metadata": {
            "needs_background": "light"
          }
        }
      ],
      "source": [
        "plt.plot(y_test, color = 'red', label = 'Actual Stock Price')\n",
        "plt.plot(predicted_price, color = 'green', label = 'Predicted Stock Price')\n",
        "plt.title('Google stock price prediction')\n",
        "plt.xlabel('Time')\n",
        "plt.ylabel('Stock Price')\n",
        "plt.legend()\n",
        "plt.show()"
      ]
    },
    {
      "cell_type": "code",
      "source": [],
      "metadata": {
        "id": "Kzk5eke9sfJC"
      },
      "id": "Kzk5eke9sfJC",
      "execution_count": null,
      "outputs": []
    }
  ],
  "metadata": {
    "kernelspec": {
      "display_name": "Python 3 (ipykernel)",
      "language": "python",
      "name": "python3"
    },
    "language_info": {
      "codemirror_mode": {
        "name": "ipython",
        "version": 3
      },
      "file_extension": ".py",
      "mimetype": "text/x-python",
      "name": "python",
      "nbconvert_exporter": "python",
      "pygments_lexer": "ipython3",
      "version": "3.11.1"
    },
    "colab": {
      "provenance": []
    }
  },
  "nbformat": 4,
  "nbformat_minor": 5
}